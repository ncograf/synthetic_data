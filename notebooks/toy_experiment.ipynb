{
 "cells": [
  {
   "cell_type": "code",
   "execution_count": null,
   "metadata": {},
   "outputs": [],
   "source": [
    "from fourier_flow import FourierFlow\n",
    "from tg_rnn_network import TGRNNNetwork\n",
    "from ff_training import train_fourier_flow\n",
    "from tg_training import train_time_gan\n",
    "import torch\n",
    "import matplotlib.pyplot as plt\n",
    "import numpy as np\n",
    "import seaborn as sns\n",
    "import random"
   ]
  },
  {
   "cell_type": "code",
   "execution_count": null,
   "metadata": {},
   "outputs": [],
   "source": [
    "# Set seeds.\n",
    "SEED = 12345\n",
    "np.random.seed(SEED)\n",
    "random.seed(SEED)\n",
    "torch.manual_seed(SEED)"
   ]
  },
  {
   "cell_type": "markdown",
   "metadata": {},
   "source": [
    "# Data creation\n",
    "\n",
    "Create three dataset:\n",
    "1. sin waves only a phase shift\n",
    "2. sin waves only freqency shift\n",
    "3. sin waves with phase and freqency shift"
   ]
  },
  {
   "cell_type": "code",
   "execution_count": null,
   "metadata": {},
   "outputs": [],
   "source": [
    "n_samples = 1000\n",
    "T = 101\n",
    "\n",
    "freqs = np.random.beta(a=2,b=2, size=n_samples).reshape((-1,1))\n",
    "phases = np.random.normal(size=n_samples).reshape((-1,1))\n",
    "\n",
    "signals = np.repeat(np.reshape(np.arange(T, dtype=np.float32), (1,-1)),repeats=n_samples,axis=0)\n",
    "signals = np.sin(signals * freqs + phases)\n",
    "\n",
    "X_signal = torch.tensor(signals, dtype=torch.float32)"
   ]
  },
  {
   "cell_type": "markdown",
   "metadata": {},
   "source": [
    "### Forier Flow Training"
   ]
  },
  {
   "cell_type": "code",
   "execution_count": null,
   "metadata": {},
   "outputs": [],
   "source": [
    "n_epochs = 10\n",
    "learning_rate = 1e-3\n",
    "\n",
    "model, losses =  train_fourier_flow(X_signal, n_epochs, learning_rate)"
   ]
  },
  {
   "cell_type": "markdown",
   "metadata": {},
   "source": [
    "### Time Gan Training"
   ]
  },
  {
   "cell_type": "code",
   "execution_count": null,
   "metadata": {},
   "outputs": [],
   "source": [
    "n_epochs = 10\n",
    "learning_rate = 1e-3\n",
    "\n",
    "(embedder, recoverer, generator, supervisor, discriminator), losses = train_time_gan(X_signal, n_epochs, learning_rate)"
   ]
  },
  {
   "cell_type": "code",
   "execution_count": null,
   "metadata": {},
   "outputs": [],
   "source": [
    "plt.plot(losses)"
   ]
  },
  {
   "cell_type": "code",
   "execution_count": null,
   "metadata": {},
   "outputs": [],
   "source": [
    "def get_freqencies(X : torch.Tensor) -> torch.Tensor:\n",
    "    \"\"\"Compute the dominant frequencies in the data\n",
    "\n",
    "    Args:\n",
    "        X (torch.Tensor): DxT signal data\n",
    "\n",
    "    Returns:\n",
    "        torch.Tensor: D dominant frequencies\n",
    "    \"\"\"\n",
    "    \n",
    "    freqs = (1000 - torch.argmax(torch.abs(torch.fft.fftshift(torch.fft.fft(X, dim=1), dim=1)), dim=1)) / 1000\n",
    "    return freqs"
   ]
  },
  {
   "cell_type": "code",
   "execution_count": null,
   "metadata": {},
   "outputs": [],
   "source": [
    "n_sample = 1000\n",
    "gen_series = model.sample(n_sample)"
   ]
  },
  {
   "cell_type": "code",
   "execution_count": null,
   "metadata": {},
   "outputs": [],
   "source": [
    "gen_freq = get_freqencies(gen_series)\n",
    "real_freq = get_freqencies(X_signal)"
   ]
  },
  {
   "cell_type": "code",
   "execution_count": null,
   "metadata": {},
   "outputs": [],
   "source": [
    "sns.kdeplot(gen_freq, linestyle='-', label='generated data')\n",
    "sns.kdeplot(real_freq, linestyle='--', label='real data')\n",
    "plt.legend()\n"
   ]
  },
  {
   "cell_type": "code",
   "execution_count": null,
   "metadata": {},
   "outputs": [],
   "source": []
  }
 ],
 "metadata": {
  "kernelspec": {
   "display_name": "synthetic-data-5lnic9a9-py3.10",
   "language": "python",
   "name": "python3"
  },
  "language_info": {
   "codemirror_mode": {
    "name": "ipython",
    "version": 3
   },
   "file_extension": ".py",
   "mimetype": "text/x-python",
   "name": "python",
   "nbconvert_exporter": "python",
   "pygments_lexer": "ipython3",
   "version": "3.10.13"
  }
 },
 "nbformat": 4,
 "nbformat_minor": 2
}
