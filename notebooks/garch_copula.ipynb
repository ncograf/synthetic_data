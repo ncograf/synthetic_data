{
 "cells": [
  {
   "cell_type": "code",
   "execution_count": null,
   "metadata": {},
   "outputs": [],
   "source": [
    "import random\n",
    "\n",
    "import garch_copula_generator\n",
    "import numpy as np\n",
    "import pandas as pd\n",
    "import real_data_loader\n",
    "import return_statistic\n",
    "import torch\n",
    "from copulas import visualization"
   ]
  },
  {
   "cell_type": "code",
   "execution_count": null,
   "metadata": {},
   "outputs": [],
   "source": [
    "# Set seeds.\n",
    "SEED = 12345\n",
    "np.random.seed(SEED)\n",
    "random.seed(SEED)\n",
    "torch.manual_seed(SEED)"
   ]
  },
  {
   "cell_type": "markdown",
   "metadata": {},
   "source": [
    "# Garch model Fit"
   ]
  },
  {
   "cell_type": "code",
   "execution_count": null,
   "metadata": {},
   "outputs": [],
   "source": [
    "real_loader = real_data_loader.RealDataLoader(cache=\"../data/cache\")\n",
    "price_data = real_loader.get_timeseries(data_path=\"../data/raw_yahoo_data\")"
   ]
  },
  {
   "cell_type": "markdown",
   "metadata": {},
   "source": [
    "### Forier Flow Training"
   ]
  },
  {
   "cell_type": "code",
   "execution_count": null,
   "metadata": {},
   "outputs": [],
   "source": [
    "test_data = price_data.loc[:, [\"MSFT\", \"AMZN\"]]\n",
    "ret_stat = return_statistic.ReturnStatistic()\n",
    "ret_stat.set_statistics(test_data)\n",
    "test_returns = pd.DataFrame(ret_stat.statistic * 100, columns=test_data.columns)"
   ]
  },
  {
   "cell_type": "code",
   "execution_count": null,
   "metadata": {},
   "outputs": [],
   "source": [
    "garch = garch_copula_generator.GarchCopulaGenerator(\n",
    "    p=1, q=1, distribution=\"studentT\", name=\"GARCH_Copula_1_1_studentT\"\n",
    ")\n",
    "\n",
    "garch.fit_model(test_data)"
   ]
  },
  {
   "cell_type": "code",
   "execution_count": null,
   "metadata": {},
   "outputs": [],
   "source": [
    "price_sim, return_sim = garch.generate_data(4000, burn=500)\n",
    "return_sim = pd.DataFrame(return_sim, columns=test_data.columns)"
   ]
  },
  {
   "cell_type": "code",
   "execution_count": null,
   "metadata": {},
   "outputs": [],
   "source": [
    "visualization.compare_2d(test_returns, return_sim)"
   ]
  }
 ],
 "metadata": {
  "kernelspec": {
   "display_name": "synthetic-data-5lnic9a9-py3.10",
   "language": "python",
   "name": "python3"
  },
  "language_info": {
   "codemirror_mode": {
    "name": "ipython",
    "version": 3
   },
   "file_extension": ".py",
   "mimetype": "text/x-python",
   "name": "python",
   "nbconvert_exporter": "python",
   "pygments_lexer": "ipython3",
   "version": "3.11.6"
  }
 },
 "nbformat": 4,
 "nbformat_minor": 2
}
