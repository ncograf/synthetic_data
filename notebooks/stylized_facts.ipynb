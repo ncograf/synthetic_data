{
 "cells": [
  {
   "cell_type": "code",
   "execution_count": null,
   "metadata": {},
   "outputs": [],
   "source": [
    "import random\n",
    "\n",
    "import chained_filter\n",
    "import fourier_flow_generator\n",
    "import garch_generator\n",
    "import gen_data_loader\n",
    "import illiquidity_filter\n",
    "import infty_filter\n",
    "import len_filter\n",
    "import numpy as np\n",
    "import pandas as pd\n",
    "import real_data_loader\n",
    "import time_filter\n",
    "import torch\n",
    "import visualizer\n",
    "from arch.univariate import StudentsT"
   ]
  },
  {
   "cell_type": "markdown",
   "metadata": {},
   "source": [
    "## Set seeds for reconstruction of the results"
   ]
  },
  {
   "cell_type": "code",
   "execution_count": null,
   "metadata": {},
   "outputs": [],
   "source": [
    "# Set seeds.\n",
    "SEED = 12345\n",
    "np.random.seed(SEED)\n",
    "random.seed(SEED)\n",
    "torch.manual_seed(SEED)"
   ]
  },
  {
   "cell_type": "markdown",
   "metadata": {},
   "source": [
    "## Load Data\n",
    "\n",
    "Here the data gets generated / prepared for the later analysis"
   ]
  },
  {
   "cell_type": "markdown",
   "metadata": {},
   "source": [
    "#### Prepare Filters"
   ]
  },
  {
   "cell_type": "code",
   "execution_count": null,
   "metadata": {},
   "outputs": [],
   "source": [
    "inf_filter = infty_filter.InftyFilter()\n",
    "iliq_filter = illiquidity_filter.IlliquidityFilter(\n",
    "    window=20, min_jumps=2, exclude_tolerance=10\n",
    ")\n",
    "l_filter = len_filter.LenFilter(min_points=4000)\n",
    "\n",
    "time_filt = time_filter.TimeFilter(pd.Timestamp(year=1990, month=1, day=1))\n",
    "\n",
    "filter = chained_filter.ChainedFilter(\n",
    "    [inf_filter, iliq_filter, l_filter], time_filter=time_filt\n",
    ")\n",
    "filter.reset_filter()"
   ]
  },
  {
   "cell_type": "markdown",
   "metadata": {},
   "source": [
    "#### Load Data"
   ]
  },
  {
   "cell_type": "code",
   "execution_count": null,
   "metadata": {},
   "outputs": [],
   "source": [
    "real_loader = real_data_loader.RealDataLoader(cache=\"../data/cache\")\n",
    "real_data = real_loader.get_timeseries(\n",
    "    col_name=\"Adj Close\", data_path=\"../data/raw_yahoo_data\", update_all=False\n",
    ")\n",
    "# fit filter for real data\n",
    "filter.fit_filter(real_data)"
   ]
  },
  {
   "cell_type": "code",
   "execution_count": null,
   "metadata": {},
   "outputs": [],
   "source": [
    "garch = garch_generator.GarchGenerator(\n",
    "    p=3, q=3, distribution=StudentsT(), name=\"GARCH_3_3_student\"\n",
    ")\n",
    "data_loader = gen_data_loader.GenDataLoader(cache=\"../data/cache\")\n",
    "gen_data = data_loader.get_timeseries(\n",
    "    generator=garch, col_name=\"Adj Close\", data_loader=real_loader, update_all=False\n",
    ")\n",
    "# filter garch data as well\n",
    "filter.fit_filter(gen_data)"
   ]
  },
  {
   "cell_type": "code",
   "execution_count": null,
   "metadata": {},
   "outputs": [],
   "source": [
    "ff_gen = fourier_flow_generator.FourierFlowGenerator(\n",
    "    learning_rate=1e-2, epochs=1000, dtype=torch.float32\n",
    ")\n",
    "ff_loader = gen_data_loader.GenDataLoader(cache=\"../data/cache\")\n",
    "ff_data = ff_loader.get_timeseries(\n",
    "    ff_gen,\n",
    "    data_loader=real_loader,\n",
    "    col_name=\"Adj Close\",\n",
    "    update_all=False,\n",
    "    symbols=[\"MSFT\", \"AMZN\"],\n",
    ")"
   ]
  },
  {
   "cell_type": "code",
   "execution_count": null,
   "metadata": {},
   "outputs": [],
   "source": [
    "iliq_filter.print_state()\n",
    "l_filter.print_state()\n",
    "filter.print_state()"
   ]
  },
  {
   "cell_type": "markdown",
   "metadata": {},
   "source": [
    "#### Apply Filters"
   ]
  },
  {
   "cell_type": "code",
   "execution_count": null,
   "metadata": {},
   "outputs": [],
   "source": [
    "filter.apply_filter(gen_data)\n",
    "filter.apply_filter(real_data)"
   ]
  },
  {
   "cell_type": "markdown",
   "metadata": {},
   "source": [
    "### Generate Plots"
   ]
  },
  {
   "cell_type": "code",
   "execution_count": null,
   "metadata": {},
   "outputs": [],
   "source": [
    "visualizer.visualize_all(\n",
    "    ff_data.loc[:, [\"MSFT\", \"AMZN\"]], name=\"Fourier Flow Data MSFT and AMZN\"\n",
    ").figure.show()"
   ]
  },
  {
   "cell_type": "code",
   "execution_count": null,
   "metadata": {},
   "outputs": [],
   "source": [
    "visualizer.visualize_all(\n",
    "    real_data.loc[:, [\"MSFT\", \"AMZN\"]], name=\"Real Data MSFT and AMZN\"\n",
    ").figure.show()"
   ]
  },
  {
   "cell_type": "code",
   "execution_count": null,
   "metadata": {},
   "outputs": [],
   "source": [
    "visualizer.visualize_all(\n",
    "    gen_data.loc[:, [\"MSFT\", \"AMZN\"]], name=garch.name\n",
    ").figure.show()"
   ]
  },
  {
   "cell_type": "code",
   "execution_count": null,
   "metadata": {},
   "outputs": [],
   "source": []
  }
 ],
 "metadata": {
  "kernelspec": {
   "display_name": "synthetic-data-5lnic9a9-py3.10",
   "language": "python",
   "name": "python3"
  },
  "language_info": {
   "codemirror_mode": {
    "name": "ipython",
    "version": 3
   },
   "file_extension": ".py",
   "mimetype": "text/x-python",
   "name": "python",
   "nbconvert_exporter": "python",
   "pygments_lexer": "ipython3",
   "version": "3.10.13"
  }
 },
 "nbformat": 4,
 "nbformat_minor": 2
}
