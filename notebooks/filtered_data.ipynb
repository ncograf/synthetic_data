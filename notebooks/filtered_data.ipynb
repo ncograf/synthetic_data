{
 "cells": [
  {
   "cell_type": "code",
   "execution_count": null,
   "metadata": {},
   "outputs": [],
   "source": [
    "import random\n",
    "\n",
    "import chained_filter\n",
    "import dim_reducer\n",
    "import illiquidity_filter\n",
    "import infty_filter\n",
    "import len_filter\n",
    "import numpy as np\n",
    "import pandas as pd\n",
    "import plotter\n",
    "import real_data_loader\n",
    "import return_statistic\n",
    "import sp500_statistic\n",
    "import time_filter\n",
    "import torch"
   ]
  },
  {
   "cell_type": "code",
   "execution_count": null,
   "metadata": {},
   "outputs": [],
   "source": [
    "# Set seeds.\n",
    "SEED = 12345\n",
    "np.random.seed(SEED)\n",
    "random.seed(SEED)\n",
    "torch.manual_seed(SEED)"
   ]
  },
  {
   "cell_type": "markdown",
   "metadata": {},
   "source": [
    "# Load data"
   ]
  },
  {
   "cell_type": "code",
   "execution_count": null,
   "metadata": {},
   "outputs": [],
   "source": [
    "real_loader = real_data_loader.RealDataLoader(cache=\"../data/cache\")\n",
    "price_data = real_loader.get_timeseries(data_path=\"../data/raw_yahoo_data\")"
   ]
  },
  {
   "cell_type": "markdown",
   "metadata": {},
   "source": [
    "## Apply filters"
   ]
  },
  {
   "cell_type": "code",
   "execution_count": null,
   "metadata": {},
   "outputs": [],
   "source": [
    "filter_list = []\n",
    "\n",
    "min_lenght = 2000\n",
    "filter_list.append(len_filter.LenFilter(min_lenght))\n",
    "\n",
    "illiquidity_window = 10\n",
    "min_illiquidity_jumps = 2\n",
    "exclude_illiquidity_tolerance = 10\n",
    "filter_list.append(\n",
    "    illiquidity_filter.IlliquidityFilter(\n",
    "        window=illiquidity_window,\n",
    "        min_jumps=min_illiquidity_jumps,\n",
    "        exclude_tolerance=exclude_illiquidity_tolerance,\n",
    "    )\n",
    ")\n",
    "\n",
    "filter_list.append(infty_filter.InftyFilter())\n",
    "\n",
    "first_date = pd.Timestamp(year=1990, month=1, day=1)\n",
    "ch_filter = chained_filter.ChainedFilter(\n",
    "    filter_chain=filter_list, time_filter=time_filter.TimeFilter(first_date=first_date)\n",
    ")"
   ]
  },
  {
   "cell_type": "code",
   "execution_count": null,
   "metadata": {},
   "outputs": [],
   "source": [
    "price_data_filtered = price_data.copy()\n",
    "ch_filter.fit_filter(price_data)\n",
    "ch_filter.apply_filter(price_data_filtered)\n",
    "\n",
    "print(price_data.shape)\n",
    "print(price_data_filtered.shape)"
   ]
  },
  {
   "cell_type": "markdown",
   "metadata": {},
   "source": [
    "### Compute Statistics"
   ]
  },
  {
   "cell_type": "code",
   "execution_count": null,
   "metadata": {},
   "outputs": [],
   "source": [
    "price_statistic = sp500_statistic.SP500Statistic()\n",
    "price_statistic.set_statistics(price_data)\n",
    "price_statistic_filtered = sp500_statistic.SP500Statistic()\n",
    "price_statistic_filtered.set_statistics(price_data_filtered)"
   ]
  },
  {
   "cell_type": "markdown",
   "metadata": {},
   "source": [
    "### Print statistics"
   ]
  },
  {
   "cell_type": "code",
   "execution_count": null,
   "metadata": {},
   "outputs": [],
   "source": [
    "price_statistic.print_distribution_properties()"
   ]
  },
  {
   "cell_type": "code",
   "execution_count": null,
   "metadata": {},
   "outputs": [],
   "source": [
    "price_statistic_filtered.print_distribution_properties()"
   ]
  },
  {
   "cell_type": "markdown",
   "metadata": {},
   "source": [
    "### Plot Distributions"
   ]
  },
  {
   "cell_type": "code",
   "execution_count": null,
   "metadata": {},
   "outputs": [],
   "source": [
    "plot = plotter.Plotter(\n",
    "    cache=\"data/cache\",\n",
    "    figure_name=\"data_set_distribution\",\n",
    "    figure_title=\"Data Set Distribution \",\n",
    "    figure_style={\n",
    "        \"figure.figsize\": (16, 10),\n",
    "        \"figure.titlesize\": 22,\n",
    "        \"axes.titlesize\": 18,\n",
    "        \"axes.labelsize\": 16,\n",
    "        \"font.size\": 17,\n",
    "        \"xtick.labelsize\": 15,\n",
    "        \"ytick.labelsize\": 15,\n",
    "        \"figure.dpi\": 96,\n",
    "        \"legend.loc\": \"upper right\",\n",
    "        \"figure.constrained_layout.use\": True,\n",
    "        \"figure.constrained_layout.h_pad\": 0.1,\n",
    "        \"figure.constrained_layout.hspace\": 0,\n",
    "        \"figure.constrained_layout.w_pad\": 0.1,\n",
    "        \"figure.constrained_layout.wspace\": 0,\n",
    "    },\n",
    "    subplot_layout={\n",
    "        \"ncols\": 2,\n",
    "        \"nrows\": 1,\n",
    "        \"sharex\": \"none\",\n",
    "        \"sharey\": \"none\",\n",
    "    },\n",
    ")\n",
    "\n",
    "price_statistic.draw_histogram(\n",
    "    plot.axes[0],\n",
    "    style={\"color\": \"green\", \"density\": False},\n",
    "    y_log_scale=True,\n",
    "    y_label=r\"# stocks\",\n",
    ")\n",
    "price_statistic_filtered.draw_histogram(\n",
    "    plot.axes[1],\n",
    "    style={\"color\": \"green\", \"density\": False},\n",
    "    y_log_scale=True,\n",
    "    y_label=r\"# stocks\",\n",
    ")\n",
    "plot.axes[1].set_title(\"Filtered Data\")\n",
    "plot.axes[0].set_title(\"Unfiltered Data\")"
   ]
  },
  {
   "cell_type": "markdown",
   "metadata": {},
   "source": [
    "### Dimensionality reduction"
   ]
  },
  {
   "cell_type": "code",
   "execution_count": null,
   "metadata": {},
   "outputs": [],
   "source": [
    "price_return_statistic = return_statistic.ReturnStatistic()\n",
    "price_return_statistic.set_statistics(price_data)\n",
    "\n",
    "price_return_statistic_filtered = return_statistic.ReturnStatistic()\n",
    "price_return_statistic_filtered.set_statistics(price_data_filtered)"
   ]
  },
  {
   "cell_type": "code",
   "execution_count": null,
   "metadata": {},
   "outputs": [],
   "source": [
    "%%capture\n",
    "plot = plotter.Plotter(\n",
    "    cache=\"data/cache\",\n",
    "    figure_name=\"return_tsne\",\n",
    "    figure_title=\"Price Return TSNE\",\n",
    "    figure_style={\n",
    "        \"figure.figsize\": (16, 10),\n",
    "        \"figure.titlesize\": 22,\n",
    "        \"axes.titlesize\": 18,\n",
    "        \"axes.labelsize\": 16,\n",
    "        \"font.size\": 17,\n",
    "        \"xtick.labelsize\": 15,\n",
    "        \"ytick.labelsize\": 15,\n",
    "        \"figure.dpi\": 96,\n",
    "        \"legend.loc\": \"upper right\",\n",
    "        \"figure.constrained_layout.use\": True,\n",
    "        \"figure.constrained_layout.h_pad\": 0.1,\n",
    "        \"figure.constrained_layout.hspace\": 0,\n",
    "        \"figure.constrained_layout.w_pad\": 0.1,\n",
    "        \"figure.constrained_layout.wspace\": 0,\n",
    "    },\n",
    "    subplot_layout={\n",
    "        \"ncols\": 1,\n",
    "        \"nrows\": 1,\n",
    "        \"sharex\": \"none\",\n",
    "        \"sharey\": \"none\",\n",
    "    },\n",
    ")\n",
    "tsne_reducer = dim_reducer.DimReducer(\"TSNE\")"
   ]
  },
  {
   "cell_type": "code",
   "execution_count": null,
   "metadata": {},
   "outputs": [],
   "source": [
    "style = {\"color\": \"blue\", \"label\": \"Unfiltered Data\"}\n",
    "tsne_reducer.draw_reduction(\n",
    "    plot.axes, price_return_statistic.statistic.T[:, :-103], **style\n",
    ")\n",
    "\n",
    "style = {\"color\": \"red\", \"label\": \"Filtered Data\"}\n",
    "tsne_reducer.draw_reduction(\n",
    "    plot.axes, price_return_statistic_filtered.statistic.T[:, :-2000], **style\n",
    ")\n",
    "plot.figure"
   ]
  },
  {
   "cell_type": "code",
   "execution_count": null,
   "metadata": {},
   "outputs": [],
   "source": []
  }
 ],
 "metadata": {
  "kernelspec": {
   "display_name": "synthetic-data-5lnic9a9-py3.10",
   "language": "python",
   "name": "python3"
  },
  "language_info": {
   "codemirror_mode": {
    "name": "ipython",
    "version": 3
   },
   "file_extension": ".py",
   "mimetype": "text/x-python",
   "name": "python",
   "nbconvert_exporter": "python",
   "pygments_lexer": "ipython3",
   "version": "3.10.13"
  }
 },
 "nbformat": 4,
 "nbformat_minor": 2
}
