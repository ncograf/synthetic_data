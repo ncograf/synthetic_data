{
 "cells": [
  {
   "cell_type": "code",
   "execution_count": 1,
   "metadata": {},
   "outputs": [],
   "source": [
    "import random\n",
    "\n",
    "import numpy as np\n",
    "import pandas as pd\n",
    "import real_data_loader\n",
    "import stylized_score\n",
    "import torch\n",
    "import visualize_stylized_facts as vsf"
   ]
  },
  {
   "cell_type": "markdown",
   "metadata": {},
   "source": [
    "## Set seeds for reconstruction of the results"
   ]
  },
  {
   "cell_type": "code",
   "execution_count": 2,
   "metadata": {},
   "outputs": [
    {
     "data": {
      "text/plain": [
       "<torch._C.Generator at 0x7ca51b7b7290>"
      ]
     },
     "execution_count": 2,
     "metadata": {},
     "output_type": "execute_result"
    }
   ],
   "source": [
    "# Set seeds.\n",
    "SEED = 12345\n",
    "np.random.seed(SEED)\n",
    "random.seed(SEED)\n",
    "torch.manual_seed(SEED)"
   ]
  },
  {
   "cell_type": "markdown",
   "metadata": {},
   "source": [
    "#### Load Data\n",
    "\n",
    "Filter out selected times and stocks"
   ]
  },
  {
   "cell_type": "code",
   "execution_count": 3,
   "metadata": {},
   "outputs": [
    {
     "name": "stdout",
     "output_type": "stream",
     "text": [
      "Cached data found at ../data/cache/time_series_Adj_Close.csv.\n",
      "(15648, 503)\n"
     ]
    }
   ],
   "source": [
    "real_loader = real_data_loader.RealDataLoader(cache=\"../data/cache\")\n",
    "real_data = real_loader.get_timeseries(\n",
    "    col_name=\"Adj Close\", data_path=\"../data/raw_yahoo_data\", update_all=False\n",
    ")\n",
    "real_data = real_data.drop([\"SPY\"], axis=\"columns\")\n",
    "print(real_data.shape)"
   ]
  },
  {
   "cell_type": "markdown",
   "metadata": {},
   "source": [
    "Inspect data for missing information"
   ]
  },
  {
   "cell_type": "code",
   "execution_count": 4,
   "metadata": {},
   "outputs": [],
   "source": [
    "N_STOCKS = 9216\n",
    "nan_mask = ~np.isnan(real_data)  # returns pd.dataframe\n",
    "num_non_nans: pd.DataFrame = np.sum(nan_mask, axis=0)\n",
    "non_nan_orderd_stocks: pd.DataFrame = num_non_nans.sort_values(ascending=False)\n",
    "# plt.plot(non_nan_orderd_stocks.values)\n",
    "stocks = non_nan_orderd_stocks.iloc[non_nan_orderd_stocks.values >= N_STOCKS].index"
   ]
  },
  {
   "cell_type": "code",
   "execution_count": 5,
   "metadata": {},
   "outputs": [
    {
     "name": "stdout",
     "output_type": "stream",
     "text": [
      "Shape: (9216, 233)\n",
      "Frist Date 1987-08-05\n",
      "Last Date 2024-03-01\n"
     ]
    }
   ],
   "source": [
    "# stocks = [\"MSFT\", \"AAPL\", \"IBM\", \"ADBE\", \"ORCL\", \"INTC\", \"AMD\", \"HPQ\"]\n",
    "# stocks = ['MSFT']\n",
    "first_date = real_data.index[-N_STOCKS]\n",
    "real_data = real_data.loc[first_date:, stocks]\n",
    "real_data = real_data.loc[:, np.all(~np.isnan(real_data), axis=0)]\n",
    "assert np.all(~np.isnan(real_data))\n",
    "print(f\"Shape: {real_data.shape}\")\n",
    "print(f\"Frist Date {real_data.index[0]:%Y-%m-%d}\")\n",
    "print(f\"Last Date {real_data.index[-1]:%Y-%m-%d}\")"
   ]
  },
  {
   "cell_type": "code",
   "execution_count": 6,
   "metadata": {},
   "outputs": [],
   "source": [
    "np_data = np.array(real_data)\n",
    "np_ret = np.log(np_data[1:] / np_data[:-1])\n",
    "np_ret[np.abs(np_ret) >= 2] = 0  # clean data"
   ]
  },
  {
   "cell_type": "code",
   "execution_count": 7,
   "metadata": {},
   "outputs": [],
   "source": [
    "fig = vsf.visualize_stylized_facts_paper(np_ret, 1.1 * 5.106)\n",
    "fig.savefig(\"/home/nico/thesis/thesis/figure/st_fact.pgf\")"
   ]
  },
  {
   "cell_type": "code",
   "execution_count": 8,
   "metadata": {},
   "outputs": [],
   "source": [
    "stats = stylized_score._compute_stats(np_ret, \"real\")"
   ]
  },
  {
   "cell_type": "code",
   "execution_count": 9,
   "metadata": {},
   "outputs": [
    {
     "data": {
      "text/plain": [
       "{'beta': -1.3158444829200642,\n",
       " 'beta_max': 0.6878266695738646,\n",
       " 'beta_std': 0.9285091872521446,\n",
       " 'beta_min': -9.389689121969688,\n",
       " 'beta_mean': -0.7791100405421878,\n",
       " 'beta_median': -0.6161710420388364}"
      ]
     },
     "execution_count": 9,
     "metadata": {},
     "output_type": "execute_result"
    }
   ],
   "source": [
    "sel = [\"beta\", \"beta_max\", \"beta_std\", \"beta_min\", \"beta_mean\", \"beta_median\"]\n",
    "cf_stats = stats[\"cfv_real_stat\"]\n",
    "{s: cf_stats[s] for s in sel}"
   ]
  },
  {
   "cell_type": "code",
   "execution_count": 10,
   "metadata": {},
   "outputs": [
    {
     "data": {
      "text/plain": [
       "{'mse': 0.0001392362375568713,\n",
       " 'mse_max': 0.0003180039771793697,\n",
       " 'mse_std': 2.9113411556717668e-05,\n",
       " 'mse_min': 0.00010418846956381635,\n",
       " 'mse_mean': 0.0001392362375568713,\n",
       " 'mse_median': 0.00013107706282784146}"
      ]
     },
     "execution_count": 10,
     "metadata": {},
     "output_type": "execute_result"
    }
   ],
   "source": [
    "sel = [\"mse\", \"mse_max\", \"mse_std\", \"mse_min\", \"mse_mean\", \"mse_median\"]\n",
    "lu_stats = stats[\"lu_real_stat\"]\n",
    "{s: lu_stats[s] for s in sel}"
   ]
  },
  {
   "cell_type": "code",
   "execution_count": 11,
   "metadata": {},
   "outputs": [
    {
     "data": {
      "text/plain": [
       "{'neg_beta': -3.297825272311764,\n",
       " 'neg_beta_max': -2.261203717318225,\n",
       " 'neg_beta_std': 0.31571987018756953,\n",
       " 'neg_beta_min': -4.3268890737840495,\n",
       " 'neg_beta_mean': -3.1485089480311643,\n",
       " 'neg_beta_median': -3.1422435517832215}"
      ]
     },
     "execution_count": 11,
     "metadata": {},
     "output_type": "execute_result"
    }
   ],
   "source": [
    "sel = [\n",
    "    \"neg_beta\",\n",
    "    \"neg_beta_max\",\n",
    "    \"neg_beta_std\",\n",
    "    \"neg_beta_min\",\n",
    "    \"neg_beta_mean\",\n",
    "    \"neg_beta_median\",\n",
    "]\n",
    "ht_stats = stats[\"ht_real_stat\"]\n",
    "{s: ht_stats[s] for s in sel}"
   ]
  },
  {
   "cell_type": "code",
   "execution_count": 12,
   "metadata": {},
   "outputs": [
    {
     "data": {
      "text/plain": [
       "{'pos_beta': -3.592265544795493,\n",
       " 'pos_beta_max': -1.788608450055584,\n",
       " 'pos_beta_std': 0.4173476388528757,\n",
       " 'pos_beta_min': -4.398758135867928,\n",
       " 'pos_beta_mean': -3.1565109534345916,\n",
       " 'pos_beta_median': -3.1678312778327817}"
      ]
     },
     "execution_count": 12,
     "metadata": {},
     "output_type": "execute_result"
    }
   ],
   "source": [
    "sel = [\n",
    "    \"pos_beta\",\n",
    "    \"pos_beta_max\",\n",
    "    \"pos_beta_std\",\n",
    "    \"pos_beta_min\",\n",
    "    \"pos_beta_mean\",\n",
    "    \"pos_beta_median\",\n",
    "]\n",
    "ht_stats = stats[\"ht_real_stat\"]\n",
    "{s: ht_stats[s] for s in sel}"
   ]
  },
  {
   "cell_type": "code",
   "execution_count": 13,
   "metadata": {},
   "outputs": [
    {
     "data": {
      "text/plain": [
       "{'beta': -0.6751522558367844,\n",
       " 'beta_max': 0.1194477141495297,\n",
       " 'beta_std': 0.18478433585766968,\n",
       " 'beta_min': -0.9643298289623893,\n",
       " 'beta_mean': -0.44702167788996927,\n",
       " 'beta_median': -0.4610022297348628}"
      ]
     },
     "execution_count": 13,
     "metadata": {},
     "output_type": "execute_result"
    }
   ],
   "source": [
    "sel = [\"beta\", \"beta_max\", \"beta_std\", \"beta_min\", \"beta_mean\", \"beta_median\"]\n",
    "le_stats = stats[\"le_real_stat\"]\n",
    "{s: le_stats[s] for s in sel}"
   ]
  },
  {
   "cell_type": "code",
   "execution_count": 14,
   "metadata": {},
   "outputs": [
    {
     "data": {
      "text/plain": [
       "{'beta': -0.30117407015928177,\n",
       " 'beta_max': -0.10628664404280964,\n",
       " 'beta_std': 0.11031666888215177,\n",
       " 'beta_min': -0.771139600968903,\n",
       " 'beta_mean': -0.3276454014180343,\n",
       " 'beta_median': -0.3079607028692645}"
      ]
     },
     "execution_count": 14,
     "metadata": {},
     "output_type": "execute_result"
    }
   ],
   "source": [
    "sel = [\"beta\", \"beta_max\", \"beta_std\", \"beta_min\", \"beta_mean\", \"beta_median\"]\n",
    "vc_stats = stats[\"vc_real_stat\"]\n",
    "{s: vc_stats[s] for s in sel}"
   ]
  },
  {
   "cell_type": "code",
   "execution_count": 15,
   "metadata": {},
   "outputs": [
    {
     "data": {
      "text/plain": [
       "{'arg_diff': 5.0,\n",
       " 'arg_diff_mean': 9.523605150214593,\n",
       " 'arg_diff_std': 8.631741048392096,\n",
       " 'arg_diff_max': 46.5,\n",
       " 'arg_diff_min': -2.5,\n",
       " 'arg_diff_median': 7.5}"
      ]
     },
     "execution_count": 15,
     "metadata": {},
     "output_type": "execute_result"
    }
   ],
   "source": [
    "sel = [\n",
    "    \"arg_diff\",\n",
    "    \"arg_diff_mean\",\n",
    "    \"arg_diff_std\",\n",
    "    \"arg_diff_max\",\n",
    "    \"arg_diff_min\",\n",
    "    \"arg_diff_median\",\n",
    "]\n",
    "gl_stats = stats[\"gl_real_stat\"]\n",
    "{s: gl_stats[s] for s in sel}"
   ]
  }
 ],
 "metadata": {
  "kernelspec": {
   "display_name": "synthetic-data-5lnic9a9-py3.10",
   "language": "python",
   "name": "python3"
  },
  "language_info": {
   "codemirror_mode": {
    "name": "ipython",
    "version": 3
   },
   "file_extension": ".py",
   "mimetype": "text/x-python",
   "name": "python",
   "nbconvert_exporter": "python",
   "pygments_lexer": "ipython3",
   "version": "3.11.6"
  }
 },
 "nbformat": 4,
 "nbformat_minor": 2
}
