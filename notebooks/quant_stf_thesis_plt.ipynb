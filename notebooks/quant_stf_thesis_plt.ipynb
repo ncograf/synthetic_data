{
 "cells": [
  {
   "cell_type": "code",
   "execution_count": 1,
   "metadata": {},
   "outputs": [],
   "source": [
    "import random\n",
    "\n",
    "import load_data\n",
    "import matplotlib.pyplot as plt\n",
    "import numpy as np\n",
    "import stylized_score\n",
    "import visualize_stylized_facts_paper"
   ]
  },
  {
   "cell_type": "markdown",
   "metadata": {},
   "source": [
    "## Set seeds for reconstruction of the results"
   ]
  },
  {
   "cell_type": "code",
   "execution_count": 2,
   "metadata": {},
   "outputs": [],
   "source": [
    "# Set seeds.\n",
    "SEED = 12345\n",
    "np.random.seed(SEED)\n",
    "random.seed(SEED)"
   ]
  },
  {
   "cell_type": "markdown",
   "metadata": {},
   "source": [
    "Inspect data for missing information"
   ]
  },
  {
   "cell_type": "code",
   "execution_count": 3,
   "metadata": {},
   "outputs": [],
   "source": [
    "log_ret = load_data.load_log_returns(\"sp500\", 9216)"
   ]
  },
  {
   "cell_type": "code",
   "execution_count": 4,
   "metadata": {},
   "outputs": [],
   "source": [
    "B = 500\n",
    "S = 8\n",
    "L = 4096\n",
    "stf_dist = stylized_score.boostrap_stylized_facts(log_ret, B, S, L)\n",
    "stf = stylized_score.compute_mean_stylized_fact(log_ret)\n",
    "# fig = visualize_stylized_facts.visualize_stylized_facts(stf, stf_dist)\n",
    "# plt.savefig(\"/home/nico/edu/masterthesis/presentations/week16/figures/stf.png\")\n",
    "# plt.show()"
   ]
  },
  {
   "cell_type": "code",
   "execution_count": 5,
   "metadata": {},
   "outputs": [
    {
     "name": "stderr",
     "output_type": "stream",
     "text": [
      "No artists with labels found to put in legend.  Note that artists whose label start with an underscore are ignored when legend() is called with no argument.\n"
     ]
    }
   ],
   "source": [
    "fig = visualize_stylized_facts_paper.visualize_stylized_facts_paper(\n",
    "    stf, stf_dist, textwidth=1.15 * 5.106\n",
    ")\n",
    "plt.savefig(\"/home/nico/edu/masterthesis/thesis/figure/st_fact.pgf\")"
   ]
  }
 ],
 "metadata": {
  "kernelspec": {
   "display_name": "synthetic-data-5lnic9a9-py3.10",
   "language": "python",
   "name": "python3"
  },
  "language_info": {
   "codemirror_mode": {
    "name": "ipython",
    "version": 3
   },
   "file_extension": ".py",
   "mimetype": "text/x-python",
   "name": "python",
   "nbconvert_exporter": "python",
   "pygments_lexer": "ipython3",
   "version": "3.11.6"
  }
 },
 "nbformat": 4,
 "nbformat_minor": 2
}
