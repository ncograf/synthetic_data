{
 "cells": [
  {
   "cell_type": "code",
   "execution_count": 1,
   "metadata": {},
   "outputs": [],
   "source": [
    "import json\n",
    "import random\n",
    "import warnings\n",
    "from pathlib import Path\n",
    "\n",
    "import load_data\n",
    "import numpy as np\n",
    "import stylized_score\n",
    "import train_real_nvp"
   ]
  },
  {
   "cell_type": "markdown",
   "metadata": {},
   "source": [
    "## Set seeds for reconstruction of the results"
   ]
  },
  {
   "cell_type": "code",
   "execution_count": 2,
   "metadata": {},
   "outputs": [],
   "source": [
    "# Set seeds.\n",
    "SEED = 12345\n",
    "np.random.seed(SEED)\n",
    "random.seed(SEED)"
   ]
  },
  {
   "cell_type": "markdown",
   "metadata": {},
   "source": [
    "#### Load Data\n",
    "\n",
    "Filter out selected times and stocks"
   ]
  },
  {
   "cell_type": "code",
   "execution_count": 3,
   "metadata": {},
   "outputs": [
    {
     "name": "stdout",
     "output_type": "stream",
     "text": [
      "Timespan 1987-12-17 -- 2024-07-17\n",
      "Number of symbols 234\n"
     ]
    }
   ],
   "source": [
    "min_len = 9216\n",
    "B = 1000\n",
    "S = 1\n",
    "L = 4096\n",
    "price_df = load_data.load_prices(\"sp500\")\n",
    "log_ret, symbols = load_data.get_log_returns(price_df, min_len, True)\n",
    "stf = stylized_score.boostrap_stylized_facts(log_ret, B, S, L)"
   ]
  },
  {
   "cell_type": "code",
   "execution_count": 4,
   "metadata": {},
   "outputs": [
    {
     "name": "stdout",
     "output_type": "stream",
     "text": [
      "Working on ../data/realnvp_runs/RealNVP_2024_08_21-11_21_30, nr 0\n",
      "Working on ../data/realnvp_runs/RealNVP_2024_08_21-11_10_29, nr 1\n",
      "Working on ../data/realnvp_runs/RealNVP_2024_08_21-11_22_17, nr 2\n"
     ]
    }
   ],
   "source": [
    "# get data\n",
    "run_dir = Path(\"../data/realnvp_runs\")\n",
    "experiments = []\n",
    "for i, path in enumerate(run_dir.iterdir()):\n",
    "    if (path / \"final/model.pt\").exists():\n",
    "        print(f\"Working on {str(path)}, nr {i}\")\n",
    "\n",
    "        try:\n",
    "            model = train_real_nvp.laod_real_nvp(path / \"final/model.pt\")\n",
    "            with (path / \"final/model_info.json\").open() as file:\n",
    "                info = json.load(file)\n",
    "\n",
    "            def sampler(S):\n",
    "                with warnings.catch_warnings(action=\"ignore\"):\n",
    "                    return train_real_nvp.sample_real_nvp(model, S)\n",
    "\n",
    "            m_stf = stylized_score.stylied_facts_from_model(sampler, B, S)\n",
    "            tot, ind, _ = stylized_score.stylized_score(stf, m_stf)\n",
    "\n",
    "            experiments.append(\n",
    "                {\n",
    "                    \"score\": tot,\n",
    "                    \"ind_scores\": ind,\n",
    "                    \"path\": str(path),\n",
    "                    \"name\": path.stem,\n",
    "                    \"dist\": info[\"dist\"],\n",
    "                    \"mark\": \"\\\\xmark\"\n",
    "                    if len(info[\"stylized_losses\"]) == 0\n",
    "                    else \"\\\\cmark\",\n",
    "                }\n",
    "            )\n",
    "        except:  # noqa E722\n",
    "            print(f\"Failed {str(path)}\")\n",
    "\n",
    "        experiments.sort(key=lambda x: x[\"score\"])\n",
    "        with (run_dir / \"experiments.json\").open(\"w\") as file:\n",
    "            file.write(json.dumps(experiments, ensure_ascii=True, indent=4))"
   ]
  },
  {
   "cell_type": "code",
   "execution_count": 5,
   "metadata": {},
   "outputs": [],
   "source": [
    "print_experiemnts = []\n",
    "for exp in experiments:\n",
    "    print_experiemnts.append(\n",
    "        (exp[\"score\"], exp[\"ind_scores\"], exp[\"dist\"], exp[\"mark\"])\n",
    "    )\n",
    "\n",
    "print_experiemnts = sorted(print_experiemnts, key=lambda x: x[0])"
   ]
  },
  {
   "cell_type": "markdown",
   "metadata": {},
   "source": [
    "# Print Tables for thesis"
   ]
  },
  {
   "cell_type": "code",
   "execution_count": 6,
   "metadata": {},
   "outputs": [
    {
     "name": "stdout",
     "output_type": "stream",
     "text": [
      "\\begin{table}\n",
      "  \\centering\n",
      "  \\begin{threeparttable}\n",
      "    \\caption{RealNVP model scores}\n",
      "    \\label{tab:realnvp}\n",
      "        \\begin{tabular}{l|c|l|l|l|l|l|l|l}\n",
      "            \\toprule\n",
      "            distribution & stylized losses & $\\mathcal{S}$ & $\\mathcal{S}^{lu}$ & $\\mathcal{S}^{ht}$\n",
      "                         & $\\mathcal{S}^{vc}$ & $\\mathcal{S}^{le}$ & $\\mathcal{S}^{cf}$ & $\\mathcal{S}^{gl}$\\\\\n",
      "            \\hline\n",
      "            laplace & \\xmark & 1.33 & $0.67$ & $0.83$ & $3.42$ & $0.82$ & $0.83$ & $1.39$\\\\\n",
      "            \\hline\n",
      "            normal & \\xmark & 1.52 & $0.65$ & $0.20$ & $3.41$ & $0.82$ & $0.82$ & $3.19$\\\\\n",
      "            \\hline\n",
      "            studentt & \\xmark & 1.71 & $1.25$ & $0.89$ & $3.16$ & $0.95$ & $0.83$ & $3.15$\\\\\n",
      "            \\bottomrule\n",
      "        \\end{tabular}\n",
      "        \\begin{tablenotes}[flushleft]\n",
      "            \\footnotesize\n",
      "            \\item Real Non Volume Preserving Flow model scores. The model distribution was obtained by resampling 500 times\n",
      "            eight sequences of lenght 4096 and computing the averaged estimators for the stylized facts\n",
      "            over the eight samples. The score is obtained by a comparison of the bootstrapped real distribution\n",
      "            and the model distribution obtained by resampling.\n",
      "        \\end{tablenotes}\n",
      "  \\end{threeparttable}\n",
      "\\end{table}\n"
     ]
    }
   ],
   "source": [
    "table_start = r\"\"\"\\begin{table}\n",
    "  \\centering\n",
    "  \\begin{threeparttable}\n",
    "    \\caption{RealNVP model scores}\n",
    "    \\label{tab:realnvp}\n",
    "        \\begin{tabular}{l|c|l|l|l|l|l|l|l}\n",
    "            \\toprule\n",
    "            distribution & stylized losses & $\\mathcal{S}$ & $\\mathcal{S}^{lu}$ & $\\mathcal{S}^{ht}$\n",
    "                         & $\\mathcal{S}^{vc}$ & $\\mathcal{S}^{le}$ & $\\mathcal{S}^{cf}$ & $\\mathcal{S}^{gl}$\\\\\"\"\"\n",
    "table_end = \"\"\"            \\\\bottomrule\n",
    "        \\\\end{tabular}\n",
    "        \\\\begin{tablenotes}[flushleft]\n",
    "            \\\\footnotesize\n",
    "            \\\\item Real Non Volume Preserving Flow model scores. The model distribution was obtained by resampling 500 times\n",
    "            eight sequences of lenght 4096 and computing the averaged estimators for the stylized facts\n",
    "            over the eight samples. The score is obtained by a comparison of the bootstrapped real distribution\n",
    "            and the model distribution obtained by resampling.\n",
    "        \\\\end{tablenotes}\n",
    "  \\\\end{threeparttable}\n",
    "\\\\end{table}\"\"\"\n",
    "\n",
    "print(table_start)\n",
    "for mu, scs, model, mark in print_experiemnts:\n",
    "    ind_scores_str = \" & \".join([f\"${d:.2f}$\" for d in scs])\n",
    "    print(r\"            \\hline\")\n",
    "    print(f\"            {model} & {mark} & {mu:.2f} & {ind_scores_str}\\\\\\\\\")\n",
    "\n",
    "print(table_end)"
   ]
  }
 ],
 "metadata": {
  "kernelspec": {
   "display_name": "synthetic-data-5lnic9a9-py3.10",
   "language": "python",
   "name": "python3"
  },
  "language_info": {
   "codemirror_mode": {
    "name": "ipython",
    "version": 3
   },
   "file_extension": ".py",
   "mimetype": "text/x-python",
   "name": "python",
   "nbconvert_exporter": "python",
   "pygments_lexer": "ipython3",
   "version": "3.11.6"
  }
 },
 "nbformat": 4,
 "nbformat_minor": 2
}
