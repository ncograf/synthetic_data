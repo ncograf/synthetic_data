{
 "cells": [
  {
   "cell_type": "code",
   "execution_count": 1,
   "metadata": {},
   "outputs": [],
   "source": [
    "import random\n",
    "\n",
    "import load_data\n",
    "import numpy as np\n",
    "import stylized_score"
   ]
  },
  {
   "cell_type": "markdown",
   "metadata": {},
   "source": [
    "## Set seeds for reconstruction of the results"
   ]
  },
  {
   "cell_type": "code",
   "execution_count": 2,
   "metadata": {},
   "outputs": [],
   "source": [
    "# Set seeds.\n",
    "SEED = 12345\n",
    "np.random.seed(SEED)\n",
    "random.seed(SEED)"
   ]
  },
  {
   "cell_type": "markdown",
   "metadata": {},
   "source": [
    "#### Load Data\n",
    "\n",
    "Filter out selected times and stocks"
   ]
  },
  {
   "cell_type": "code",
   "execution_count": 3,
   "metadata": {},
   "outputs": [
    {
     "name": "stdout",
     "output_type": "stream",
     "text": [
      "Timespan 1987-12-17 -- 2024-07-17\n",
      "Number of symbols 234\n"
     ]
    }
   ],
   "source": [
    "min_len = 9216\n",
    "price_df = load_data.load_prices(\"sp500\")\n",
    "log_ret, symbols = load_data.get_log_returns(price_df, min_len, True)"
   ]
  },
  {
   "cell_type": "code",
   "execution_count": 15,
   "metadata": {},
   "outputs": [],
   "source": [
    "B = 500\n",
    "S = 8\n",
    "L = 4096\n",
    "R = 5\n",
    "\n",
    "scores = []\n",
    "total_scores = []\n",
    "for _ in range(R):\n",
    "    n_sym = len(symbols)\n",
    "    all_idx = set(range(n_sym))\n",
    "    idx_one = list(np.random.choice(list(all_idx), n_sym // 2))\n",
    "    idx_two = list(all_idx.difference(idx_one))\n",
    "\n",
    "    stf_one = stylized_score.boostrap_stylized_facts(log_ret[:, idx_one], B, S, L)\n",
    "    stf_two = stylized_score.boostrap_stylized_facts(log_ret[:, idx_two], B, S, L)\n",
    "\n",
    "    tot, sc, _ = stylized_score.stylized_score(stf_one, stf_two)\n",
    "\n",
    "    scores.append(sc)\n",
    "    total_scores.append(tot)"
   ]
  },
  {
   "cell_type": "code",
   "execution_count": 29,
   "metadata": {},
   "outputs": [],
   "source": [
    "B = 500\n",
    "S = 8\n",
    "L = 4096\n",
    "\n",
    "stock_scores = []\n",
    "stock_total_scores = []\n",
    "stf = stylized_score.boostrap_stylized_facts(log_ret, B, S, L)\n",
    "n_sym = len(symbols)\n",
    "for i in range(n_sym):\n",
    "    stf_two = stylized_score.boostrap_stylized_facts(log_ret[:, [i]], B, S, L)\n",
    "    tot, sc, _ = stylized_score.stylized_score(stf, stf_two)\n",
    "\n",
    "    stock_scores.append(sc)\n",
    "    stock_total_scores.append(tot)"
   ]
  },
  {
   "cell_type": "code",
   "execution_count": 41,
   "metadata": {},
   "outputs": [],
   "source": [
    "B = 500\n",
    "S = 8\n",
    "L = 3072\n",
    "\n",
    "index_data = []\n",
    "\n",
    "stf_sp = stylized_score.boostrap_stylized_facts(log_ret, B, S, L)\n",
    "\n",
    "smi = load_data.load_log_returns(\"smi\", 4096)\n",
    "stf_smi = stylized_score.boostrap_stylized_facts(smi, B, S, L)\n",
    "\n",
    "dax = load_data.load_log_returns(\"dax\", 4096)\n",
    "stf_dax = stylized_score.boostrap_stylized_facts(dax, B, S, L)\n",
    "\n",
    "tot, sc, _ = stylized_score.stylized_score(stf_dax, stf_smi)\n",
    "index_data.append((tot, sc, \"DAX -- SMI\"))\n",
    "tot, sc, _ = stylized_score.stylized_score(stf_dax, stf_sp)\n",
    "index_data.append((tot, sc, \"DAX -- S\\\\&P500\"))\n",
    "tot, sc, _ = stylized_score.stylized_score(stf_smi, stf_dax)\n",
    "index_data.append((tot, sc, \"SMI -- DAX\"))\n",
    "tot, sc, _ = stylized_score.stylized_score(stf_smi, stf_sp)\n",
    "index_data.append((tot, sc, \"SMI -- S\\\\&P500\"))\n",
    "tot, sc, _ = stylized_score.stylized_score(stf_sp, stf_dax)\n",
    "index_data.append((tot, sc, \"S\\\\&P500 -- DAX\"))\n",
    "tot, sc, _ = stylized_score.stylized_score(stf_sp, stf_smi)\n",
    "index_data.append((tot, sc, \"S\\\\&P500 -- SMI\"))"
   ]
  },
  {
   "cell_type": "markdown",
   "metadata": {},
   "source": [
    "# Print Tables for thesis"
   ]
  },
  {
   "cell_type": "code",
   "execution_count": 40,
   "metadata": {},
   "outputs": [
    {
     "name": "stdout",
     "output_type": "stream",
     "text": [
      "\\begin{table}\n",
      "  \\centering\n",
      "  \\begin{threeparttable}\n",
      "    \\caption{FinGAN model scores}\n",
      "    \\label{tab:finGAN}\n",
      "        \\begin{tabular}{c|l|l|l|l|l|l|l}\n",
      "            \\toprule\n",
      "            Base -- Comp & $\\mathcal{S}$ & $\\mathcal{S}^{lu}$ & $\\mathcal{S}^{ht}$\n",
      "            & $\\mathcal{S}^{vc}$ & $\\mathcal{S}^{le}$ & $\\mathcal{S}^{cf}$ & $\\mathcal{S}^{gl}$\\\\\n",
      "            \\hline\n",
      "            S\\&P500 -- SMI & 1.13 & $2.87$ & $0.29$ & $0.83$ & $1.67$ & $0.68$ & $0.44$\\\\\n",
      "            \\hline\n",
      "            S\\&P500 -- DAX & 1.17 & $2.62$ & $0.26$ & $1.20$ & $1.93$ & $0.57$ & $0.44$\\\\\n",
      "            \\hline\n",
      "            SMI -- DAX & 0.60 & $0.92$ & $0.14$ & $0.29$ & $0.83$ & $0.69$ & $0.72$\\\\\n",
      "            \\hline\n",
      "            SMI -- S\\&P500 & 0.84 & $1.70$ & $0.38$ & $0.62$ & $1.21$ & $0.67$ & $0.45$\\\\\n",
      "            \\hline\n",
      "            DAX -- S\\&P500 & 0.80 & $1.61$ & $0.31$ & $0.85$ & $1.19$ & $0.46$ & $0.38$\\\\\n",
      "            \\hline\n",
      "            DAX -- SMI & 0.54 & $0.96$ & $0.13$ & $0.28$ & $0.70$ & $0.57$ & $0.62$\\\\\n",
      "            \\bottomrule\n",
      "        \\end{tabular}\n",
      "        \\begin{tablenotes}[flushleft]\n",
      "            \\footnotesize\n",
      "            \\item Stylized Scores between market distributions.\n",
      "             The results are sorted by the base index first and then by the\n",
      "             compared index.\n",
      "        \\end{tablenotes}\n",
      "  \\end{threeparttable}\n",
      "\\end{table}\n"
     ]
    }
   ],
   "source": [
    "table_start = r\"\"\"\\begin{table}\n",
    "  \\centering\n",
    "  \\begin{threeparttable}\n",
    "    \\caption{FinGAN model scores}\n",
    "    \\label{tab:finGAN}\n",
    "        \\begin{tabular}{c|l|l|l|l|l|l|l}\n",
    "            \\toprule\n",
    "            Base -- Comp & $\\mathcal{S}$ & $\\mathcal{S}^{lu}$ & $\\mathcal{S}^{ht}$\n",
    "            & $\\mathcal{S}^{vc}$ & $\\mathcal{S}^{le}$ & $\\mathcal{S}^{cf}$ & $\\mathcal{S}^{gl}$\\\\\"\"\"\n",
    "table_end = \"\"\"            \\\\bottomrule\n",
    "        \\\\end{tabular}\n",
    "        \\\\begin{tablenotes}[flushleft]\n",
    "            \\\\footnotesize\n",
    "            \\\\item Stylized Scores between market distributions.\n",
    "             The results are sorted by the base index first and then by the\n",
    "             compared index.\n",
    "        \\\\end{tablenotes}\n",
    "  \\\\end{threeparttable}\n",
    "\\\\end{table}\"\"\"\n",
    "\n",
    "print(table_start)\n",
    "for mu, scs, run in index_data:\n",
    "    ind_scores_str = \" & \".join([f\"${d:.2f}$\" for d in scs])\n",
    "    print(r\"            \\hline\")\n",
    "    print(f\"            {run} & {mu:.2f} & {ind_scores_str}\\\\\\\\\")\n",
    "\n",
    "print(table_end)"
   ]
  },
  {
   "cell_type": "code",
   "execution_count": 34,
   "metadata": {},
   "outputs": [],
   "source": [
    "stock_data = zip(stock_total_scores, stock_scores, symbols)\n",
    "stock_data = sorted(stock_data, key=lambda x: x[0])\n",
    "avg = (np.mean(stock_total_scores), tuple(np.mean(stock_scores, axis=0)), \"AVG\")\n",
    "stock_data = list(reversed(list(reversed(stock_data)) + [avg]))\n",
    "max = stock_data[-1]\n",
    "max = (max[0], max[1], \"MAX = \" + max[2])\n",
    "\n",
    "print_stock_data = stock_data[:6]\n",
    "print_stock_data.append(max)"
   ]
  },
  {
   "cell_type": "code",
   "execution_count": 35,
   "metadata": {},
   "outputs": [
    {
     "name": "stdout",
     "output_type": "stream",
     "text": [
      "\\begin{table}\n",
      "  \\centering\n",
      "  \\begin{threeparttable}\n",
      "    \\caption{FinGAN model scores}\n",
      "    \\label{tab:finGAN}\n",
      "        \\begin{tabular}{c|l|l|l|l|l|l|l}\n",
      "            \\toprule\n",
      "            symbol & $\\mathcal{S}$ & $\\mathcal{S}^{lu}$ & $\\mathcal{S}^{ht}$\n",
      "            & $\\mathcal{S}^{vc}$ & $\\mathcal{S}^{le}$ & $\\mathcal{S}^{cf}$ & $\\mathcal{S}^{gl}$\\\\\n",
      "            \\hline\n",
      "            AVG & 1.37 & $2.20$ & $0.57$ & $1.42$ & $1.76$ & $1.32$ & $0.98$\\\\\n",
      "            \\hline\n",
      "            DIS & 0.82 & $1.13$ & $0.61$ & $0.73$ & $1.10$ & $0.84$ & $0.51$\\\\\n",
      "            \\hline\n",
      "            APD & 0.84 & $1.37$ & $0.49$ & $0.67$ & $1.04$ & $0.77$ & $0.68$\\\\\n",
      "            \\hline\n",
      "            CMI & 0.85 & $1.64$ & $0.55$ & $0.32$ & $1.23$ & $0.79$ & $0.55$\\\\\n",
      "            \\hline\n",
      "            HON & 0.86 & $1.33$ & $0.53$ & $0.37$ & $1.02$ & $0.99$ & $0.89$\\\\\n",
      "            \\hline\n",
      "            T & 0.86 & $1.54$ & $0.49$ & $0.36$ & $0.85$ & $0.84$ & $1.05$\\\\\n",
      "            \\hline\n",
      "            MAX = AIG & 3.43 & $4.84$ & $0.84$ & $5.42$ & $3.35$ & $5.35$ & $0.77$\\\\\n",
      "            \\bottomrule\n",
      "        \\end{tabular}\n",
      "        \\begin{tablenotes}[flushleft]\n",
      "            \\footnotesize\n",
      "            \\item Stylized Scores for individual stock data compared to the\n",
      "            distribution of the full index data.\n",
      "            Stocks in the S\\&P 500 with 9216 datapoints between the\n",
      "            $17^{th}$ December 1987 and the $17^{th} July 2024. The results are\n",
      "            sorted by increasing average score. The Average over all the stock experiemnts\n",
      "            is added above and the worst score is appended in the end.\n",
      "        \\end{tablenotes}\n",
      "  \\end{threeparttable}\n",
      "\\end{table}\n"
     ]
    }
   ],
   "source": [
    "table_start = r\"\"\"\\begin{table}\n",
    "  \\centering\n",
    "  \\begin{threeparttable}\n",
    "    \\caption{FinGAN model scores}\n",
    "    \\label{tab:finGAN}\n",
    "        \\begin{tabular}{c|l|l|l|l|l|l|l}\n",
    "            \\toprule\n",
    "            symbol & $\\mathcal{S}$ & $\\mathcal{S}^{lu}$ & $\\mathcal{S}^{ht}$\n",
    "            & $\\mathcal{S}^{vc}$ & $\\mathcal{S}^{le}$ & $\\mathcal{S}^{cf}$ & $\\mathcal{S}^{gl}$\\\\\"\"\"\n",
    "table_end = \"\"\"            \\\\bottomrule\n",
    "        \\\\end{tabular}\n",
    "        \\\\begin{tablenotes}[flushleft]\n",
    "            \\\\footnotesize\n",
    "            \\\\item Stylized Scores for individual stock data compared to the\n",
    "            distribution of the full index data.\n",
    "            Stocks in the S\\&P 500 with 9216 datapoints between the\n",
    "            $17^{th}$ December 1987 and the $17^{th} July 2024. The results are\n",
    "            sorted by increasing average score. The Average over all the stock experiemnts\n",
    "            is added above and the worst score is appended in the end.\n",
    "        \\\\end{tablenotes}\n",
    "  \\\\end{threeparttable}\n",
    "\\\\end{table}\"\"\"\n",
    "\n",
    "print(table_start)\n",
    "for mu, scs, run in print_stock_data:\n",
    "    ind_scores_str = \" & \".join([f\"${d:.2f}$\" for d in scs])\n",
    "    print(r\"            \\hline\")\n",
    "    print(f\"            {run} & {mu:.2f} & {ind_scores_str}\\\\\\\\\")\n",
    "\n",
    "print(table_end)"
   ]
  },
  {
   "cell_type": "code",
   "execution_count": 36,
   "metadata": {},
   "outputs": [],
   "source": [
    "random_split_data = zip(total_scores, scores, list(range(len(total_scores))))\n",
    "random_split_data = sorted(random_split_data, key=lambda x: x[0])\n",
    "avg = (np.mean(total_scores), tuple(np.mean(scores, axis=0)), \"AVG\")\n",
    "random_split_data = list(reversed(list(reversed(random_split_data)) + [avg]))"
   ]
  },
  {
   "cell_type": "code",
   "execution_count": 37,
   "metadata": {},
   "outputs": [
    {
     "name": "stdout",
     "output_type": "stream",
     "text": [
      "\\begin{table}\n",
      "  \\centering\n",
      "  \\begin{threeparttable}\n",
      "    \\caption{FinGAN model scores}\n",
      "    \\label{tab:finGAN}\n",
      "        \\begin{tabular}{c|l|l|l|l|l|l|l}\n",
      "            \\toprule\n",
      "            run & $\\mathcal{S}$ & $\\mathcal{S}^{lu}$ & $\\mathcal{S}^{ht}$\n",
      "            & $\\mathcal{S}^{vc}$ & $\\mathcal{S}^{le}$ & $\\mathcal{S}^{cf}$ & $\\mathcal{S}^{gl}$\\\\\n",
      "            \\hline\n",
      "            AVG & 0.22 & $0.33$ & $0.18$ & $0.19$ & $0.29$ & $0.18$ & $0.14$\\\\\n",
      "            \\hline\n",
      "            1 & 0.18 & $0.33$ & $0.04$ & $0.18$ & $0.24$ & $0.20$ & $0.09$\\\\\n",
      "            \\hline\n",
      "            0 & 0.18 & $0.31$ & $0.03$ & $0.17$ & $0.28$ & $0.16$ & $0.13$\\\\\n",
      "            \\hline\n",
      "            2 & 0.21 & $0.33$ & $0.11$ & $0.31$ & $0.25$ & $0.17$ & $0.12$\\\\\n",
      "            \\hline\n",
      "            3 & 0.23 & $0.29$ & $0.26$ & $0.17$ & $0.28$ & $0.25$ & $0.15$\\\\\n",
      "            \\hline\n",
      "            4 & 0.30 & $0.39$ & $0.48$ & $0.13$ & $0.43$ & $0.13$ & $0.23$\\\\\n",
      "            \\bottomrule\n",
      "        \\end{tabular}\n",
      "        \\begin{tablenotes}[flushleft]\n",
      "            \\footnotesize\n",
      "            \\item Stylized Scores for five comparisons of random splits of the 234\n",
      "            stocks in the S\\&P 500 with 9216 datapoints between the\n",
      "            $17^{th}$ December 1987 and the $17^{th} July 2024. The results are\n",
      "            sorted by increasing average score. The Average over all the five experiemnts\n",
      "            is added above.\n",
      "        \\end{tablenotes}\n",
      "  \\end{threeparttable}\n",
      "\\end{table}\n"
     ]
    }
   ],
   "source": [
    "table_start = r\"\"\"\\begin{table}\n",
    "  \\centering\n",
    "  \\begin{threeparttable}\n",
    "    \\caption{FinGAN model scores}\n",
    "    \\label{tab:finGAN}\n",
    "        \\begin{tabular}{c|l|l|l|l|l|l|l}\n",
    "            \\toprule\n",
    "            run & $\\mathcal{S}$ & $\\mathcal{S}^{lu}$ & $\\mathcal{S}^{ht}$\n",
    "            & $\\mathcal{S}^{vc}$ & $\\mathcal{S}^{le}$ & $\\mathcal{S}^{cf}$ & $\\mathcal{S}^{gl}$\\\\\"\"\"\n",
    "table_end = \"\"\"            \\\\bottomrule\n",
    "        \\\\end{tabular}\n",
    "        \\\\begin{tablenotes}[flushleft]\n",
    "            \\\\footnotesize\n",
    "            \\\\item Stylized Scores for five comparisons of random splits of the 234\n",
    "            stocks in the S\\&P 500 with 9216 datapoints between the\n",
    "            $17^{th}$ December 1987 and the $17^{th} July 2024. The results are\n",
    "            sorted by increasing average score. The Average over all the five experiemnts\n",
    "            is added above.\n",
    "        \\\\end{tablenotes}\n",
    "  \\\\end{threeparttable}\n",
    "\\\\end{table}\"\"\"\n",
    "\n",
    "print(table_start)\n",
    "for mu, scs, run in random_split_data:\n",
    "    ind_scores_str = \" & \".join([f\"${d:.2f}$\" for d in scs])\n",
    "    print(r\"            \\hline\")\n",
    "    print(f\"            {run} & {mu:.2f} & {ind_scores_str}\\\\\\\\\")\n",
    "\n",
    "print(table_end)"
   ]
  },
  {
   "cell_type": "code",
   "execution_count": null,
   "metadata": {},
   "outputs": [],
   "source": []
  }
 ],
 "metadata": {
  "kernelspec": {
   "display_name": "synthetic-data-5lnic9a9-py3.10",
   "language": "python",
   "name": "python3"
  },
  "language_info": {
   "codemirror_mode": {
    "name": "ipython",
    "version": 3
   },
   "file_extension": ".py",
   "mimetype": "text/x-python",
   "name": "python",
   "nbconvert_exporter": "python",
   "pygments_lexer": "ipython3",
   "version": "3.11.6"
  }
 },
 "nbformat": 4,
 "nbformat_minor": 2
}
