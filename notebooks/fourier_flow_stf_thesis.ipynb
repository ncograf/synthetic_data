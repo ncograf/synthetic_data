{
 "cells": [
  {
   "cell_type": "code",
   "execution_count": 1,
   "metadata": {},
   "outputs": [],
   "source": [
    "import json\n",
    "import random\n",
    "import warnings\n",
    "from pathlib import Path\n",
    "\n",
    "import load_data\n",
    "import numpy as np\n",
    "import stylized_score\n",
    "import train_fourier_flow"
   ]
  },
  {
   "cell_type": "markdown",
   "metadata": {},
   "source": [
    "## Set seeds for reconstruction of the results"
   ]
  },
  {
   "cell_type": "code",
   "execution_count": 2,
   "metadata": {},
   "outputs": [],
   "source": [
    "# Set seeds.\n",
    "SEED = 12345\n",
    "np.random.seed(SEED)\n",
    "random.seed(SEED)"
   ]
  },
  {
   "cell_type": "markdown",
   "metadata": {},
   "source": [
    "#### Load Data\n",
    "\n",
    "Filter out selected times and stocks"
   ]
  },
  {
   "cell_type": "code",
   "execution_count": 3,
   "metadata": {},
   "outputs": [
    {
     "name": "stdout",
     "output_type": "stream",
     "text": [
      "Timespan 1987-12-17 -- 2024-07-17\n",
      "Number of symbols 234\n"
     ]
    }
   ],
   "source": [
    "min_len = 9216\n",
    "B = 500\n",
    "S = 8\n",
    "L = 4096\n",
    "price_df = load_data.load_prices(\"sp500\")\n",
    "log_ret, symbols = load_data.get_log_returns(price_df, min_len, True)\n",
    "stf = stylized_score.boostrap_stylized_facts(log_ret, B, S, L)"
   ]
  },
  {
   "cell_type": "code",
   "execution_count": 4,
   "metadata": {},
   "outputs": [
    {
     "name": "stdout",
     "output_type": "stream",
     "text": [
      "Working on ../data/fourierflow_runs/FourierFlow_2024_08_21-11_02_30, nr 0\n",
      "Working on ../data/fourierflow_runs/FourierFlow_2024_08_21-11_03_22, nr 1\n",
      "Working on ../data/fourierflow_runs/FourierFlow_2024_08_21-11_02_58, nr 2\n",
      "Working on ../data/fourierflow_runs/FourierFlow_2024_08_21-11_03_39, nr 3\n",
      "Working on ../data/fourierflow_runs/FourierFlow_2024_08_21-11_07_11, nr 4\n",
      "Working on ../data/fourierflow_runs/FourierFlow_2024_08_21-11_02_39, nr 5\n"
     ]
    }
   ],
   "source": [
    "# get data\n",
    "run_dir = Path(\"../data/fourierflow_runs\")\n",
    "experiments = []\n",
    "for i, path in enumerate(run_dir.iterdir()):\n",
    "    if (path / \"final/model.pt\").exists():\n",
    "        print(f\"Working on {str(path)}, nr {i}\")\n",
    "\n",
    "        try:\n",
    "            model = train_fourier_flow.load_fourierflow(path / \"final/model.pt\")\n",
    "            with (path / \"final/model_info.json\").open() as file:\n",
    "                info = json.load(file)\n",
    "\n",
    "            def sampler(S):\n",
    "                with warnings.catch_warnings(action=\"ignore\"):\n",
    "                    return train_fourier_flow.sample_fourierflow(model, S)\n",
    "\n",
    "            m_stf = stylized_score.stylied_facts_from_model(sampler, B, S)\n",
    "            tot, ind, _ = stylized_score.stylized_score(stf, m_stf)\n",
    "\n",
    "            experiments.append(\n",
    "                {\n",
    "                    \"score\": tot,\n",
    "                    \"ind_scores\": ind,\n",
    "                    \"path\": str(path),\n",
    "                    \"name\": path.stem,\n",
    "                    \"dist\": info[\"dist\"],\n",
    "                    \"mark\": \"\\\\xmark\"\n",
    "                    if len(info[\"stylized_losses\"]) == 0\n",
    "                    else \"\\\\cmark\",\n",
    "                }\n",
    "            )\n",
    "        except:  # noqa E722\n",
    "            print(f\"Failed {str(path)}\")\n",
    "\n",
    "        experiments.sort(key=lambda x: x[\"score\"])\n",
    "        with (run_dir / \"experiments.json\").open(\"w\") as file:\n",
    "            file.write(json.dumps(experiments, ensure_ascii=True, indent=4))"
   ]
  },
  {
   "cell_type": "code",
   "execution_count": 5,
   "metadata": {},
   "outputs": [],
   "source": [
    "print_experiemnts = []\n",
    "for exp in experiments:\n",
    "    print_experiemnts.append(\n",
    "        (exp[\"score\"], exp[\"ind_scores\"], exp[\"dist\"], exp[\"mark\"])\n",
    "    )\n",
    "\n",
    "print_experiemnts = sorted(print_experiemnts, key=lambda x: x[0])"
   ]
  },
  {
   "cell_type": "markdown",
   "metadata": {},
   "source": [
    "# Print Tables for thesis"
   ]
  },
  {
   "cell_type": "code",
   "execution_count": 6,
   "metadata": {},
   "outputs": [
    {
     "name": "stdout",
     "output_type": "stream",
     "text": [
      "\\begin{table}\n",
      "  \\centering\n",
      "  \\begin{threeparttable}\n",
      "    \\caption{Fourier Flow model scores}\n",
      "    \\label{tab:fourierflow}\n",
      "        \\begin{tabular}{l|c|l|l|l|l|l|l|l}\n",
      "            \\toprule\n",
      "            distribution & stylized losses & $\\mathcal{S}$ & $\\mathcal{S}^{lu}$ & $\\mathcal{S}^{ht}$\n",
      "                         & $\\mathcal{S}^{vc}$ & $\\mathcal{S}^{le}$ & $\\mathcal{S}^{cf}$ & $\\mathcal{S}^{gl}$\\\\\n",
      "            \\hline\n",
      "            studentt & \\cmark & 3.07 & $3.41$ & $0.78$ & $1.08$ & $1.30$ & $3.39$ & $8.48$\\\\\n",
      "            \\hline\n",
      "            laplace & \\xmark & 3.32 & $2.86$ & $0.51$ & $4.81$ & $1.84$ & $1.38$ & $8.50$\\\\\n",
      "            \\hline\n",
      "            normal & \\xmark & 3.35 & $2.17$ & $0.48$ & $4.71$ & $2.14$ & $2.07$ & $8.51$\\\\\n",
      "            \\hline\n",
      "            normal & \\cmark & 3.43 & $1.91$ & $0.56$ & $4.72$ & $1.95$ & $2.86$ & $8.59$\\\\\n",
      "            \\hline\n",
      "            laplace & \\cmark & 3.50 & $3.18$ & $0.25$ & $4.50$ & $2.09$ & $2.60$ & $8.39$\\\\\n",
      "            \\hline\n",
      "            studentt & \\xmark & 3.54 & $2.21$ & $0.81$ & $4.78$ & $2.03$ & $2.93$ & $8.47$\\\\\n",
      "            \\bottomrule\n",
      "        \\end{tabular}\n",
      "        \\begin{tablenotes}[flushleft]\n",
      "            \\footnotesize\n",
      "            \\item Fourier Flow model scores. The model distribution was obtained by resampling 500 times\n",
      "            eight sequences of lenght 4096 and computing the averaged estimators for the stylized facts\n",
      "            over the eight samples. The score is obtained by a comparison of the bootstrapped real distribution\n",
      "            and the model distribution obtained by resampling.\n",
      "        \\end{tablenotes}\n",
      "  \\end{threeparttable}\n",
      "\\end{table}\n"
     ]
    }
   ],
   "source": [
    "table_start = r\"\"\"\\begin{table}\n",
    "  \\centering\n",
    "  \\begin{threeparttable}\n",
    "    \\caption{Fourier Flow model scores}\n",
    "    \\label{tab:fourierflow}\n",
    "        \\begin{tabular}{l|c|l|l|l|l|l|l|l}\n",
    "            \\toprule\n",
    "            distribution & stylized losses & $\\mathcal{S}$ & $\\mathcal{S}^{lu}$ & $\\mathcal{S}^{ht}$\n",
    "                         & $\\mathcal{S}^{vc}$ & $\\mathcal{S}^{le}$ & $\\mathcal{S}^{cf}$ & $\\mathcal{S}^{gl}$\\\\\"\"\"\n",
    "table_end = \"\"\"            \\\\bottomrule\n",
    "        \\\\end{tabular}\n",
    "        \\\\begin{tablenotes}[flushleft]\n",
    "            \\\\footnotesize\n",
    "            \\\\item Fourier Flow model scores. The model distribution was obtained by resampling 500 times\n",
    "            eight sequences of lenght 4096 and computing the averaged estimators for the stylized facts\n",
    "            over the eight samples. The score is obtained by a comparison of the bootstrapped real distribution\n",
    "            and the model distribution obtained by resampling.\n",
    "        \\\\end{tablenotes}\n",
    "  \\\\end{threeparttable}\n",
    "\\\\end{table}\"\"\"\n",
    "\n",
    "print(table_start)\n",
    "for mu, scs, model, mark in print_experiemnts:\n",
    "    ind_scores_str = \" & \".join([f\"${d:.2f}$\" for d in scs])\n",
    "    print(r\"            \\hline\")\n",
    "    print(f\"            {model} & {mark} & {mu:.2f} & {ind_scores_str}\\\\\\\\\")\n",
    "\n",
    "print(table_end)"
   ]
  }
 ],
 "metadata": {
  "kernelspec": {
   "display_name": "synthetic-data-5lnic9a9-py3.10",
   "language": "python",
   "name": "python3"
  },
  "language_info": {
   "codemirror_mode": {
    "name": "ipython",
    "version": 3
   },
   "file_extension": ".py",
   "mimetype": "text/x-python",
   "name": "python",
   "nbconvert_exporter": "python",
   "pygments_lexer": "ipython3",
   "version": "3.11.6"
  }
 },
 "nbformat": 4,
 "nbformat_minor": 2
}
