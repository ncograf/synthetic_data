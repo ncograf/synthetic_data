{
 "cells": [
  {
   "cell_type": "code",
   "execution_count": 1,
   "metadata": {},
   "outputs": [],
   "source": [
    "import json\n",
    "import random\n",
    "from pathlib import Path\n",
    "\n",
    "import load_data\n",
    "import numpy as np\n",
    "import stylized_score"
   ]
  },
  {
   "cell_type": "markdown",
   "metadata": {},
   "source": [
    "## Set seeds for reconstruction of the results"
   ]
  },
  {
   "cell_type": "code",
   "execution_count": 2,
   "metadata": {},
   "outputs": [],
   "source": [
    "# Set seeds.\n",
    "SEED = 12345\n",
    "np.random.seed(SEED)\n",
    "random.seed(SEED)"
   ]
  },
  {
   "cell_type": "markdown",
   "metadata": {},
   "source": [
    "#### Load Data\n",
    "\n",
    "Filter out selected times and stocks"
   ]
  },
  {
   "cell_type": "code",
   "execution_count": 3,
   "metadata": {},
   "outputs": [
    {
     "name": "stdout",
     "output_type": "stream",
     "text": [
      "Timespan 1987-12-17 -- 2024-07-17\n",
      "Number of symbols 234\n"
     ]
    }
   ],
   "source": [
    "min_len = 9216\n",
    "B = 500\n",
    "S = 8\n",
    "L = 4096\n",
    "price_df = load_data.load_prices(\"sp500\")\n",
    "log_ret, symbols = load_data.get_log_returns(price_df, min_len, True)\n",
    "stf = stylized_score.boostrap_stylized_facts(log_ret, B, S, L)"
   ]
  },
  {
   "cell_type": "markdown",
   "metadata": {},
   "source": [
    "# get data\n",
    "run_dir = Path('../data/garch_runs')\n",
    "experiments = []\n",
    "for i, path in enumerate(run_dir.iterdir()):\n",
    "    if path.is_dir():\n",
    "        print(f'Working on {str(path)}, nr {i}')\n",
    "\n",
    "        with (path / 'meta_data.json').open() as file:\n",
    "            config = json.load(file)\n",
    "\n",
    "        if config['config']['vol'] == 'EGARCH':\n",
    "            config['name'] = 'EGARCH'\n",
    "        elif config['config']['vol'] == 'FIGARCH':\n",
    "            config['name'] = 'FIGARCH'\n",
    "        elif config['config']['vol'] == 'ARCH':\n",
    "            config['name'] = 'ARCH'\n",
    "        elif config['config']['vol'] == 'GARCH':\n",
    "            if config['config']['power'] == 1:\n",
    "                config['name'] = 'TARCH'\n",
    "            elif 'o' in set(config['config'].keys()):\n",
    "                config['name'] = 'GJR-GARCH'\n",
    "            else:\n",
    "                config['name'] = 'GARCH'\n",
    "            \n",
    "\n",
    "\n",
    "        garch_models = train_garch.load_garch(path / 'garch_models.pt')\n",
    "        def garch_sampler(S):\n",
    "            with warnings.catch_warnings(action=\"ignore\"):\n",
    "                return train_garch.sample_garch(garch_models, S, L)\n",
    "\n",
    "        try:\n",
    "            m_stf = stylized_score.stylied_facts_from_model(garch_sampler, B, S)\n",
    "            tot, ind, _ = stylized_score.stylized_score(stf, m_stf)\n",
    "\n",
    "            experiments.append({\n",
    "                    \"score\": tot,\n",
    "                    \"ind_scores\": ind,\n",
    "                    \"path\": str(path),\n",
    "                    \"config\": config['config'],\n",
    "                    \"name\": config['name'],\n",
    "                })\n",
    "        except:  # noqa E722\n",
    "            experiments.append({\"score\": 2**31, \"config\": config['config']})\n",
    "\n",
    "        experiments.sort(key=lambda x: x[\"score\"])\n",
    "        with (run_dir / 'garch_experiments.json').open(\"w\") as file:\n",
    "                file.write(json.dumps(experiments, ensure_ascii=True, indent=4))"
   ]
  },
  {
   "cell_type": "code",
   "execution_count": 16,
   "metadata": {},
   "outputs": [],
   "source": [
    "path = Path(\"../data/garch_runs\")\n",
    "with (path / \"garch_experiments.json\").open() as file:\n",
    "    experiments = json.load(file)\n",
    "\n",
    "best_experiments = {\n",
    "    \"GJR-GARCH\": [],\n",
    "    \"GARCH\": [],\n",
    "    \"TARCH\": [],\n",
    "    \"EGARCH\": [],\n",
    "    \"FIGARCH\": [],\n",
    "    \"ARCH\": [],\n",
    "}\n",
    "for exp in experiments:\n",
    "    if np.isnan(exp[\"score\"]):\n",
    "        continue\n",
    "    name = exp[\"name\"]\n",
    "    tot = exp[\"score\"]\n",
    "    sc = exp[\"ind_scores\"]\n",
    "    p = exp[\"config\"][\"p\"]\n",
    "    dist = exp[\"config\"][\"dist\"]\n",
    "    best_experiments[name].append((tot, sc, p, dist, name))"
   ]
  },
  {
   "cell_type": "code",
   "execution_count": 19,
   "metadata": {},
   "outputs": [],
   "source": [
    "presented_experiments = []\n",
    "for key in best_experiments.keys():\n",
    "    best_experiments[key] = sorted(best_experiments[key], key=lambda x: x[0])\n",
    "    for i in range(2):\n",
    "        presented_experiments.append(best_experiments[key][i])"
   ]
  },
  {
   "cell_type": "markdown",
   "metadata": {},
   "source": [
    "# Print Tables for thesis"
   ]
  },
  {
   "cell_type": "code",
   "execution_count": 20,
   "metadata": {},
   "outputs": [
    {
     "name": "stdout",
     "output_type": "stream",
     "text": [
      "\\begin{table}\n",
      "  \\centering\n",
      "  \\begin{threeparttable}\n",
      "    \\caption{GARCH Experiments}\n",
      "    \\label{tab:garch_exp}\n",
      "        \\begin{tabular}{c|c|c|l|l|l|l|l|l|l}\n",
      "            \\toprule\n",
      "            Model & dist & p [[= o] = q] & $\\mathcal{S}$ & $\\mathcal{S}^{lu}$ & $\\mathcal{S}^{ht}$\n",
      "            & $\\mathcal{S}^{vc}$ & $\\mathcal{S}^{le}$ & $\\mathcal{S}^{cf}$ & $\\mathcal{S}^{gl}$\\\\\n",
      "            \\hline\n",
      "            GJR-GARCH & skewt & 2 & 0.71 & $1.37$ & $0.65$ & $0.25$ & $0.62$ & $1.06$ & $0.29$\\\\\n",
      "            \\hline\n",
      "            GJR-GARCH & skewt & 4 & 0.74 & $1.43$ & $0.69$ & $0.27$ & $0.64$ & $1.10$ & $0.31$\\\\\n",
      "            \\hline\n",
      "            GARCH & t & 2 & 0.82 & $1.37$ & $0.66$ & $0.27$ & $1.27$ & $1.01$ & $0.33$\\\\\n",
      "            \\hline\n",
      "            GARCH & skewt & 2 & 0.83 & $1.36$ & $0.66$ & $0.24$ & $1.39$ & $1.00$ & $0.34$\\\\\n",
      "            \\hline\n",
      "            TARCH & t & 2 & 1.02 & $1.37$ & $0.38$ & $1.99$ & $0.53$ & $1.61$ & $0.25$\\\\\n",
      "            \\hline\n",
      "            TARCH & t & 4 & 1.04 & $1.32$ & $0.34$ & $2.11$ & $0.54$ & $1.66$ & $0.26$\\\\\n",
      "            \\hline\n",
      "            EGARCH & ged & 1 & 1.17 & $1.27$ & $0.36$ & $1.63$ & $1.45$ & $1.95$ & $0.36$\\\\\n",
      "            \\hline\n",
      "            EGARCH & ged & 2 & 1.19 & $1.28$ & $0.35$ & $1.70$ & $1.47$ & $1.96$ & $0.37$\\\\\n",
      "            \\hline\n",
      "            FIGARCH & skewt & 1 & 1.05 & $1.28$ & $0.45$ & $1.63$ & $1.59$ & $1.14$ & $0.22$\\\\\n",
      "            \\hline\n",
      "            FIGARCH & ged & 1 & 1.17 & $1.29$ & $0.40$ & $1.99$ & $1.44$ & $1.63$ & $0.27$\\\\\n",
      "            \\hline\n",
      "            ARCH & t & 5 & 1.28 & $1.37$ & $0.70$ & $2.55$ & $1.35$ & $1.25$ & $0.46$\\\\\n",
      "            \\hline\n",
      "            ARCH & t & 4 & 1.36 & $1.36$ & $0.68$ & $2.90$ & $1.40$ & $1.35$ & $0.47$\\\\\n",
      "            \\bottomrule\n",
      "        \\end{tabular}\n",
      "        \\begin{tablenotes}[flushleft]\n",
      "            \\footnotesize\n",
      "            \\item Stylized Scores for fitted GARCH distributions.\n",
      "        \\end{tablenotes}\n",
      "  \\end{threeparttable}\n",
      "\\end{table}\n"
     ]
    }
   ],
   "source": [
    "table_start = r\"\"\"\\begin{table}\n",
    "  \\centering\n",
    "  \\begin{threeparttable}\n",
    "    \\caption{GARCH Experiments}\n",
    "    \\label{tab:garch_exp}\n",
    "        \\begin{tabular}{c|c|c|l|l|l|l|l|l|l}\n",
    "            \\toprule\n",
    "            Model & dist & p [[= o] = q] & $\\mathcal{S}$ & $\\mathcal{S}^{lu}$ & $\\mathcal{S}^{ht}$\n",
    "            & $\\mathcal{S}^{vc}$ & $\\mathcal{S}^{le}$ & $\\mathcal{S}^{cf}$ & $\\mathcal{S}^{gl}$\\\\\"\"\"\n",
    "table_end = \"\"\"            \\\\bottomrule\n",
    "        \\\\end{tabular}\n",
    "        \\\\begin{tablenotes}[flushleft]\n",
    "            \\\\footnotesize\n",
    "            \\\\item Stylized Scores for fitted GARCH distributions.\n",
    "        \\\\end{tablenotes}\n",
    "  \\\\end{threeparttable}\n",
    "\\\\end{table}\"\"\"\n",
    "\n",
    "print(table_start)\n",
    "for mu, scs, p, dist, model in presented_experiments:\n",
    "    ind_scores_str = \" & \".join([f\"${d:.2f}$\" for d in scs])\n",
    "    print(r\"            \\hline\")\n",
    "    print(f\"            {model} & {dist} & {p} & {mu:.2f} & {ind_scores_str}\\\\\\\\\")\n",
    "\n",
    "print(table_end)"
   ]
  }
 ],
 "metadata": {
  "kernelspec": {
   "display_name": "synthetic-data-5lnic9a9-py3.10",
   "language": "python",
   "name": "python3"
  },
  "language_info": {
   "codemirror_mode": {
    "name": "ipython",
    "version": 3
   },
   "file_extension": ".py",
   "mimetype": "text/x-python",
   "name": "python",
   "nbconvert_exporter": "python",
   "pygments_lexer": "ipython3",
   "version": "3.11.6"
  }
 },
 "nbformat": 4,
 "nbformat_minor": 2
}
